{
 "cells": [
  {
   "cell_type": "markdown",
   "id": "1587e36b",
   "metadata": {
    "papermill": {
     "duration": 0.031652,
     "end_time": "2022-02-06T16:59:02.820240",
     "exception": false,
     "start_time": "2022-02-06T16:59:02.788588",
     "status": "completed"
    },
    "tags": []
   },
   "source": [
    "## <center> Airlines Customer Satisfaction (Classification) - CatBoost and SHAP </center> \n",
    "<center> Denver Magtibay---Tae Hwan Kim---Mahmoud Besaiso </center> "
   ]
  },
  {
   "cell_type": "code",
   "execution_count": 1,
   "id": "a321988e",
   "metadata": {},
   "outputs": [
    {
     "name": "stdout",
     "output_type": "stream",
     "text": [
      "Requirement already satisfied: catboost in c:\\users\\engrd\\anaconda3\\lib\\site-packages (1.2.2)\n",
      "Requirement already satisfied: numpy>=1.16.0 in c:\\users\\engrd\\anaconda3\\lib\\site-packages (from catboost) (1.23.5)\n",
      "Requirement already satisfied: six in c:\\users\\engrd\\anaconda3\\lib\\site-packages (from catboost) (1.16.0)\n",
      "Requirement already satisfied: plotly in c:\\users\\engrd\\anaconda3\\lib\\site-packages (from catboost) (5.18.0)\n",
      "Requirement already satisfied: pandas>=0.24 in c:\\users\\engrd\\anaconda3\\lib\\site-packages (from catboost) (1.5.3)\n",
      "Requirement already satisfied: scipy in c:\\users\\engrd\\anaconda3\\lib\\site-packages (from catboost) (1.10.0)\n",
      "Requirement already satisfied: matplotlib in c:\\users\\engrd\\anaconda3\\lib\\site-packages (from catboost) (3.8.2)\n",
      "Requirement already satisfied: graphviz in c:\\users\\engrd\\anaconda3\\lib\\site-packages (from catboost) (0.20.1)\n",
      "Requirement already satisfied: python-dateutil>=2.8.1 in c:\\users\\engrd\\anaconda3\\lib\\site-packages (from pandas>=0.24->catboost) (2.8.2)\n",
      "Requirement already satisfied: pytz>=2020.1 in c:\\users\\engrd\\anaconda3\\lib\\site-packages (from pandas>=0.24->catboost) (2022.7)\n",
      "Requirement already satisfied: packaging>=20.0 in c:\\users\\engrd\\anaconda3\\lib\\site-packages (from matplotlib->catboost) (22.0)\n",
      "Requirement already satisfied: cycler>=0.10 in c:\\users\\engrd\\anaconda3\\lib\\site-packages (from matplotlib->catboost) (0.11.0)\n",
      "Requirement already satisfied: pyparsing>=2.3.1 in c:\\users\\engrd\\anaconda3\\lib\\site-packages (from matplotlib->catboost) (3.0.9)\n",
      "Requirement already satisfied: pillow>=8 in c:\\users\\engrd\\anaconda3\\lib\\site-packages (from matplotlib->catboost) (9.4.0)\n",
      "Requirement already satisfied: contourpy>=1.0.1 in c:\\users\\engrd\\anaconda3\\lib\\site-packages (from matplotlib->catboost) (1.0.5)\n",
      "Requirement already satisfied: kiwisolver>=1.3.1 in c:\\users\\engrd\\anaconda3\\lib\\site-packages (from matplotlib->catboost) (1.4.4)\n",
      "Requirement already satisfied: fonttools>=4.22.0 in c:\\users\\engrd\\anaconda3\\lib\\site-packages (from matplotlib->catboost) (4.25.0)\n",
      "Requirement already satisfied: tenacity>=6.2.0 in c:\\users\\engrd\\anaconda3\\lib\\site-packages (from plotly->catboost) (8.0.1)\n",
      "Requirement already satisfied: torch in c:\\users\\engrd\\anaconda3\\lib\\site-packages (2.2.0)\n",
      "Requirement already satisfied: torchvision in c:\\users\\engrd\\anaconda3\\lib\\site-packages (0.17.0)\n",
      "Requirement already satisfied: torchaudio in c:\\users\\engrd\\anaconda3\\lib\\site-packages (2.2.0)\n",
      "Requirement already satisfied: networkx in c:\\users\\engrd\\anaconda3\\lib\\site-packages (from torch) (3.2.1)\n",
      "Requirement already satisfied: typing-extensions>=4.8.0 in c:\\users\\engrd\\anaconda3\\lib\\site-packages (from torch) (4.9.0)\n",
      "Requirement already satisfied: sympy in c:\\users\\engrd\\anaconda3\\lib\\site-packages (from torch) (1.11.1)\n",
      "Requirement already satisfied: filelock in c:\\users\\engrd\\anaconda3\\lib\\site-packages (from torch) (3.9.0)\n",
      "Requirement already satisfied: jinja2 in c:\\users\\engrd\\anaconda3\\lib\\site-packages (from torch) (3.1.2)\n",
      "Requirement already satisfied: fsspec in c:\\users\\engrd\\anaconda3\\lib\\site-packages (from torch) (2022.11.0)\n",
      "Requirement already satisfied: pillow!=8.3.*,>=5.3.0 in c:\\users\\engrd\\anaconda3\\lib\\site-packages (from torchvision) (9.4.0)\n",
      "Requirement already satisfied: requests in c:\\users\\engrd\\anaconda3\\lib\\site-packages (from torchvision) (2.28.1)\n",
      "Requirement already satisfied: numpy in c:\\users\\engrd\\anaconda3\\lib\\site-packages (from torchvision) (1.23.5)\n",
      "Requirement already satisfied: MarkupSafe>=2.0 in c:\\users\\engrd\\anaconda3\\lib\\site-packages (from jinja2->torch) (2.1.1)\n",
      "Requirement already satisfied: charset-normalizer<3,>=2 in c:\\users\\engrd\\anaconda3\\lib\\site-packages (from requests->torchvision) (2.0.4)\n",
      "Requirement already satisfied: certifi>=2017.4.17 in c:\\users\\engrd\\anaconda3\\lib\\site-packages (from requests->torchvision) (2022.12.7)\n",
      "Requirement already satisfied: idna<4,>=2.5 in c:\\users\\engrd\\anaconda3\\lib\\site-packages (from requests->torchvision) (3.4)\n",
      "Requirement already satisfied: urllib3<1.27,>=1.21.1 in c:\\users\\engrd\\anaconda3\\lib\\site-packages (from requests->torchvision) (1.26.14)\n",
      "Requirement already satisfied: mpmath>=0.19 in c:\\users\\engrd\\anaconda3\\lib\\site-packages (from sympy->torch) (1.2.1)\n",
      "Requirement already satisfied: shap in c:\\users\\engrd\\anaconda3\\lib\\site-packages (0.44.1)\n",
      "Requirement already satisfied: scikit-learn in c:\\users\\engrd\\anaconda3\\lib\\site-packages (from shap) (1.4.0)\n",
      "Requirement already satisfied: pandas in c:\\users\\engrd\\anaconda3\\lib\\site-packages (from shap) (1.5.3)\n",
      "Requirement already satisfied: numba in c:\\users\\engrd\\anaconda3\\lib\\site-packages (from shap) (0.56.4)\n",
      "Requirement already satisfied: numpy in c:\\users\\engrd\\anaconda3\\lib\\site-packages (from shap) (1.23.5)\n",
      "Requirement already satisfied: packaging>20.9 in c:\\users\\engrd\\anaconda3\\lib\\site-packages (from shap) (22.0)\n",
      "Requirement already satisfied: tqdm>=4.27.0 in c:\\users\\engrd\\anaconda3\\lib\\site-packages (from shap) (4.64.1)\n",
      "Requirement already satisfied: cloudpickle in c:\\users\\engrd\\anaconda3\\lib\\site-packages (from shap) (2.0.0)\n",
      "Requirement already satisfied: scipy in c:\\users\\engrd\\anaconda3\\lib\\site-packages (from shap) (1.10.0)\n",
      "Requirement already satisfied: slicer==0.0.7 in c:\\users\\engrd\\anaconda3\\lib\\site-packages (from shap) (0.0.7)\n",
      "Requirement already satisfied: colorama in c:\\users\\engrd\\anaconda3\\lib\\site-packages (from tqdm>=4.27.0->shap) (0.4.6)\n",
      "Requirement already satisfied: setuptools in c:\\users\\engrd\\anaconda3\\lib\\site-packages (from numba->shap) (65.6.3)\n",
      "Requirement already satisfied: llvmlite<0.40,>=0.39.0dev0 in c:\\users\\engrd\\anaconda3\\lib\\site-packages (from numba->shap) (0.39.1)\n",
      "Requirement already satisfied: python-dateutil>=2.8.1 in c:\\users\\engrd\\anaconda3\\lib\\site-packages (from pandas->shap) (2.8.2)\n",
      "Requirement already satisfied: pytz>=2020.1 in c:\\users\\engrd\\anaconda3\\lib\\site-packages (from pandas->shap) (2022.7)\n",
      "Requirement already satisfied: joblib>=1.2.0 in c:\\users\\engrd\\anaconda3\\lib\\site-packages (from scikit-learn->shap) (1.3.2)\n",
      "Requirement already satisfied: threadpoolctl>=2.0.0 in c:\\users\\engrd\\anaconda3\\lib\\site-packages (from scikit-learn->shap) (2.2.0)\n",
      "Requirement already satisfied: six>=1.5 in c:\\users\\engrd\\anaconda3\\lib\\site-packages (from python-dateutil>=2.8.1->pandas->shap) (1.16.0)\n",
      "Requirement already satisfied: matplotlib in c:\\users\\engrd\\anaconda3\\lib\\site-packages (3.8.2)\n",
      "Requirement already satisfied: catboost in c:\\users\\engrd\\anaconda3\\lib\\site-packages (1.2.2)\n",
      "Requirement already satisfied: pyparsing>=2.3.1 in c:\\users\\engrd\\anaconda3\\lib\\site-packages (from matplotlib) (3.0.9)\n",
      "Requirement already satisfied: fonttools>=4.22.0 in c:\\users\\engrd\\anaconda3\\lib\\site-packages (from matplotlib) (4.25.0)\n",
      "Requirement already satisfied: contourpy>=1.0.1 in c:\\users\\engrd\\anaconda3\\lib\\site-packages (from matplotlib) (1.0.5)\n",
      "Requirement already satisfied: packaging>=20.0 in c:\\users\\engrd\\anaconda3\\lib\\site-packages (from matplotlib) (22.0)\n",
      "Requirement already satisfied: kiwisolver>=1.3.1 in c:\\users\\engrd\\anaconda3\\lib\\site-packages (from matplotlib) (1.4.4)\n",
      "Requirement already satisfied: numpy<2,>=1.21 in c:\\users\\engrd\\anaconda3\\lib\\site-packages (from matplotlib) (1.23.5)\n",
      "Requirement already satisfied: python-dateutil>=2.7 in c:\\users\\engrd\\anaconda3\\lib\\site-packages (from matplotlib) (2.8.2)\n",
      "Requirement already satisfied: cycler>=0.10 in c:\\users\\engrd\\anaconda3\\lib\\site-packages (from matplotlib) (0.11.0)\n",
      "Requirement already satisfied: pillow>=8 in c:\\users\\engrd\\anaconda3\\lib\\site-packages (from matplotlib) (9.4.0)\n",
      "Requirement already satisfied: graphviz in c:\\users\\engrd\\anaconda3\\lib\\site-packages (from catboost) (0.20.1)\n",
      "Requirement already satisfied: scipy in c:\\users\\engrd\\anaconda3\\lib\\site-packages (from catboost) (1.10.0)\n",
      "Requirement already satisfied: six in c:\\users\\engrd\\anaconda3\\lib\\site-packages (from catboost) (1.16.0)\n",
      "Requirement already satisfied: pandas>=0.24 in c:\\users\\engrd\\anaconda3\\lib\\site-packages (from catboost) (1.5.3)\n",
      "Requirement already satisfied: plotly in c:\\users\\engrd\\anaconda3\\lib\\site-packages (from catboost) (5.18.0)\n",
      "Requirement already satisfied: pytz>=2020.1 in c:\\users\\engrd\\anaconda3\\lib\\site-packages (from pandas>=0.24->catboost) (2022.7)\n",
      "Requirement already satisfied: tenacity>=6.2.0 in c:\\users\\engrd\\anaconda3\\lib\\site-packages (from plotly->catboost) (8.0.1)\n"
     ]
    }
   ],
   "source": [
    "!pip install catboost\n",
    "!pip install --upgrade torch torchvision torchaudio\n",
    "!pip install shap\n",
    "!pip install --upgrade matplotlib catboost"
   ]
  },
  {
   "cell_type": "code",
   "execution_count": 2,
   "id": "8d61fd28",
   "metadata": {
    "execution": {
     "iopub.execute_input": "2022-02-06T16:59:02.943049Z",
     "iopub.status.busy": "2022-02-06T16:59:02.941885Z",
     "iopub.status.idle": "2022-02-06T16:59:04.568155Z",
     "shell.execute_reply": "2022-02-06T16:59:04.566754Z",
     "shell.execute_reply.started": "2022-02-06T16:58:21.313181Z"
    },
    "papermill": {
     "duration": 1.659405,
     "end_time": "2022-02-06T16:59:04.568367",
     "exception": false,
     "start_time": "2022-02-06T16:59:02.908962",
     "status": "completed"
    },
    "tags": []
   },
   "outputs": [],
   "source": [
    "import pandas as pd \n",
    "import seaborn as sns\n",
    "import matplotlib.pyplot as plt \n",
    "\n",
    "from sklearn.model_selection import train_test_split\n",
    "\n",
    "# Import classifier\n",
    "from catboost import CatBoostClassifier as CBC\n",
    "\n",
    "import warnings\n",
    "warnings.filterwarnings('ignore') # Suppress warnings"
   ]
  },
  {
   "cell_type": "code",
   "execution_count": 3,
   "id": "c731f30c",
   "metadata": {
    "execution": {
     "iopub.execute_input": "2022-02-06T16:59:04.632386Z",
     "iopub.status.busy": "2022-02-06T16:59:04.631345Z",
     "iopub.status.idle": "2022-02-06T16:59:04.636848Z",
     "shell.execute_reply": "2022-02-06T16:59:04.637307Z",
     "shell.execute_reply.started": "2022-02-06T16:37:55.309775Z"
    },
    "papermill": {
     "duration": 0.040075,
     "end_time": "2022-02-06T16:59:04.637502",
     "exception": false,
     "start_time": "2022-02-06T16:59:04.597427",
     "status": "completed"
    },
    "tags": []
   },
   "outputs": [],
   "source": [
    "def side_by_side(*objs, **kwds):\n",
    "    from pandas.io.formats.printing import adjoin\n",
    "    space = kwds.get('space', 4)\n",
    "    reprs = [repr(obj).split('\\n') for obj in objs]\n",
    "    print (adjoin(space, *reprs))\n",
    "    print()\n",
    "    return"
   ]
  },
  {
   "cell_type": "markdown",
   "id": "e299c082",
   "metadata": {
    "papermill": {
     "duration": 0.02882,
     "end_time": "2022-02-06T16:59:04.697571",
     "exception": false,
     "start_time": "2022-02-06T16:59:04.668751",
     "status": "completed"
    },
    "tags": []
   },
   "source": [
    "#### Loading Data"
   ]
  },
  {
   "cell_type": "code",
   "execution_count": 4,
   "id": "a22b93d7",
   "metadata": {
    "execution": {
     "iopub.execute_input": "2022-02-06T16:59:04.761433Z",
     "iopub.status.busy": "2022-02-06T16:59:04.760741Z",
     "iopub.status.idle": "2022-02-06T16:59:05.216022Z",
     "shell.execute_reply": "2022-02-06T16:59:05.215390Z",
     "shell.execute_reply.started": "2022-02-06T16:40:35.851372Z"
    },
    "papermill": {
     "duration": 0.487523,
     "end_time": "2022-02-06T16:59:05.216212",
     "exception": false,
     "start_time": "2022-02-06T16:59:04.728689",
     "status": "completed"
    },
    "tags": []
   },
   "outputs": [],
   "source": [
    "airlineDF = pd.read_csv(\"SPJAIN_Airline.csv\")"
   ]
  },
  {
   "cell_type": "markdown",
   "id": "d03a1977",
   "metadata": {},
   "source": [
    "**About this Dataset**\n",
    "\n",
    "This dataset is provided by an airline organization known as SPJAIN airlines, although the actual company name is not disclosed for privacy reasons.\n",
    "\n",
    "It contains information about customers who have previously traveled with the airline. The dataset includes feedback from customers on different aspects and their flight-related data.\n",
    "\n",
    "The primary objective of this dataset is to forecast whether future customers will be content with the airline's service based on various parameter values.\n",
    "\n",
    "Additionally, the airline aims to identify areas of their services that require more attention to increase customer satisfaction."
   ]
  },
  {
   "cell_type": "code",
   "execution_count": 5,
   "id": "aacf2f72",
   "metadata": {
    "execution": {
     "iopub.execute_input": "2022-02-06T16:59:05.284168Z",
     "iopub.status.busy": "2022-02-06T16:59:05.283315Z",
     "iopub.status.idle": "2022-02-06T16:59:05.286951Z",
     "shell.execute_reply": "2022-02-06T16:59:05.287463Z",
     "shell.execute_reply.started": "2022-02-06T16:40:39.100859Z"
    },
    "papermill": {
     "duration": 0.04169,
     "end_time": "2022-02-06T16:59:05.287670",
     "exception": false,
     "start_time": "2022-02-06T16:59:05.245980",
     "status": "completed"
    },
    "tags": []
   },
   "outputs": [
    {
     "data": {
      "text/plain": [
       "(129880, 23)"
      ]
     },
     "execution_count": 5,
     "metadata": {},
     "output_type": "execute_result"
    }
   ],
   "source": [
    "airlineDF.shape"
   ]
  },
  {
   "cell_type": "code",
   "execution_count": 6,
   "id": "ac61ad05",
   "metadata": {
    "execution": {
     "iopub.execute_input": "2022-02-06T16:59:05.353598Z",
     "iopub.status.busy": "2022-02-06T16:59:05.352748Z",
     "iopub.status.idle": "2022-02-06T16:59:05.513600Z",
     "shell.execute_reply": "2022-02-06T16:59:05.514135Z",
     "shell.execute_reply.started": "2022-02-06T16:45:18.460807Z"
    },
    "papermill": {
     "duration": 0.19608,
     "end_time": "2022-02-06T16:59:05.514336",
     "exception": false,
     "start_time": "2022-02-06T16:59:05.318256",
     "status": "completed"
    },
    "tags": []
   },
   "outputs": [
    {
     "name": "stdout",
     "output_type": "stream",
     "text": [
      "satisfaction                           0    satisfaction                         129880\n",
      "Gender                                 0    Gender                               129880\n",
      "Customer Type                          0    Customer Type                        129880\n",
      "Age                                    0    Age                                  129880\n",
      "Type of Travel                         0    Type of Travel                       129880\n",
      "Class                                  0    Class                                129880\n",
      "Flight Distance                        0    Flight Distance                      129880\n",
      "Seat comfort                           0    Seat comfort                         129880\n",
      "Departure/Arrival time convenient      0    Departure/Arrival time convenient    129880\n",
      "Food and drink                         0    Food and drink                       129880\n",
      "Gate location                          0    Gate location                        129880\n",
      "Inflight wifi service                  0    Inflight wifi service                129880\n",
      "Inflight entertainment                 0    Inflight entertainment               129880\n",
      "Online support                         0    Online support                       129880\n",
      "Ease of Online booking                 0    Ease of Online booking               129880\n",
      "On-board service                       0    On-board service                     129880\n",
      "Leg room service                       0    Leg room service                     129880\n",
      "Baggage handling                       0    Baggage handling                     129880\n",
      "Checkin service                        0    Checkin service                      129880\n",
      "Cleanliness                            0    Cleanliness                          129880\n",
      "Online boarding                        0    Online boarding                      129880\n",
      "Departure Delay in Minutes             0    Departure Delay in Minutes           129880\n",
      "Arrival Delay in Minutes             393    Arrival Delay in Minutes             129487\n",
      "dtype: int64                                dtype: int64                               \n",
      "\n"
     ]
    }
   ],
   "source": [
    "side_by_side(airlineDF.isnull().sum(), airlineDF.count()) # out of total rows how many rows of them are Null"
   ]
  },
  {
   "cell_type": "code",
   "execution_count": 7,
   "id": "3f77a5a3",
   "metadata": {
    "execution": {
     "iopub.execute_input": "2022-02-06T16:59:05.577929Z",
     "iopub.status.busy": "2022-02-06T16:59:05.577235Z",
     "iopub.status.idle": "2022-02-06T16:59:05.606391Z",
     "shell.execute_reply": "2022-02-06T16:59:05.606937Z",
     "shell.execute_reply.started": "2022-02-06T16:45:21.269163Z"
    },
    "papermill": {
     "duration": 0.062872,
     "end_time": "2022-02-06T16:59:05.607110",
     "exception": false,
     "start_time": "2022-02-06T16:59:05.544238",
     "status": "completed"
    },
    "tags": []
   },
   "outputs": [
    {
     "data": {
      "text/plain": [
       "Class\n",
       "Business    62160\n",
       "Eco         58309\n",
       "Eco Plus     9411\n",
       "dtype: int64"
      ]
     },
     "execution_count": 7,
     "metadata": {},
     "output_type": "execute_result"
    }
   ],
   "source": [
    "airlineDF[['Class']].groupby(['Class']).size()"
   ]
  },
  {
   "cell_type": "markdown",
   "id": "634398c5",
   "metadata": {
    "papermill": {
     "duration": 0.030322,
     "end_time": "2022-02-06T16:59:05.667516",
     "exception": false,
     "start_time": "2022-02-06T16:59:05.637194",
     "status": "completed"
    },
    "tags": []
   },
   "source": [
    "#### Label Encoding "
   ]
  },
  {
   "cell_type": "code",
   "execution_count": 8,
   "id": "b8707bcf",
   "metadata": {
    "execution": {
     "iopub.execute_input": "2022-02-06T16:59:05.739871Z",
     "iopub.status.busy": "2022-02-06T16:59:05.739117Z",
     "iopub.status.idle": "2022-02-06T16:59:05.838699Z",
     "shell.execute_reply": "2022-02-06T16:59:05.838147Z",
     "shell.execute_reply.started": "2022-02-06T16:45:24.959811Z"
    },
    "papermill": {
     "duration": 0.13912,
     "end_time": "2022-02-06T16:59:05.838868",
     "exception": false,
     "start_time": "2022-02-06T16:59:05.699748",
     "status": "completed"
    },
    "tags": []
   },
   "outputs": [],
   "source": [
    "# Mapping for 'satisfaction' column - label encoding\n",
    "satisfaction_mapping = {\"satisfied\": 1, \"dissatisfied\": 0}\n",
    "# Apply label encoding to 'satisfaction' column\n",
    "airlineDF['satisfaction'] = airlineDF['satisfaction'].map(satisfaction_mapping)\n",
    "\n",
    "# Mapping for 'Gender' column - label encoding\n",
    "gender_mapping = {\"Female\": 1, \"Male\": 0}\n",
    "# Apply label encoding to 'Gender' column\n",
    "airlineDF['Gender'] = airlineDF['Gender'].map(gender_mapping)\n",
    "\n",
    "# Mapping for 'Customer Type' column - label encoding\n",
    "customer_type_mapping = {\"Loyal Customer\": 1, \"disloyal Customer\": 0}\n",
    "# Apply label encoding to 'Customer Type' column\n",
    "airlineDF['Customer Type'] = airlineDF['Customer Type'].map(customer_type_mapping)\n",
    "\n",
    "# Mapping for 'Type of Travel' column - label encoding\n",
    "travel_type_mapping = {\"Business travel\": 2, \"Personal Travel\": 1}\n",
    "# Apply label encoding to 'Type of Travel' column\n",
    "airlineDF['Type of Travel'] = airlineDF['Type of Travel'].map(travel_type_mapping)\n",
    "\n",
    "# Mapping for 'Class' column - label encoding\n",
    "class_mapping = {\"Business\": 3, \"Eco Plus\": 2, \"Eco\": 1}\n",
    "# Apply label encoding to 'Class' column\n",
    "airlineDF['Class'] = airlineDF['Class'].map(class_mapping)"
   ]
  },
  {
   "cell_type": "markdown",
   "id": "1c124e4f",
   "metadata": {
    "papermill": {
     "duration": 0.029733,
     "end_time": "2022-02-06T16:59:05.898705",
     "exception": false,
     "start_time": "2022-02-06T16:59:05.868972",
     "status": "completed"
    },
    "tags": []
   },
   "source": [
    "#### Catigorical Features "
   ]
  },
  {
   "cell_type": "code",
   "execution_count": 9,
   "id": "b26f8147",
   "metadata": {
    "execution": {
     "iopub.execute_input": "2022-02-06T16:59:05.965350Z",
     "iopub.status.busy": "2022-02-06T16:59:05.964404Z",
     "iopub.status.idle": "2022-02-06T16:59:05.994357Z",
     "shell.execute_reply": "2022-02-06T16:59:05.994903Z",
     "shell.execute_reply.started": "2022-02-06T16:45:26.83676Z"
    },
    "papermill": {
     "duration": 0.066018,
     "end_time": "2022-02-06T16:59:05.995087",
     "exception": false,
     "start_time": "2022-02-06T16:59:05.929069",
     "status": "completed"
    },
    "tags": []
   },
   "outputs": [
    {
     "data": {
      "text/plain": [
       "satisfaction                            2\n",
       "Gender                                  2\n",
       "Customer Type                           2\n",
       "Age                                    75\n",
       "Type of Travel                          2\n",
       "Class                                   3\n",
       "Flight Distance                      5398\n",
       "Seat comfort                            6\n",
       "Departure/Arrival time convenient       6\n",
       "Food and drink                          6\n",
       "Gate location                           6\n",
       "Inflight wifi service                   6\n",
       "Inflight entertainment                  6\n",
       "Online support                          6\n",
       "Ease of Online booking                  6\n",
       "On-board service                        6\n",
       "Leg room service                        6\n",
       "Baggage handling                        5\n",
       "Checkin service                         6\n",
       "Cleanliness                             6\n",
       "Online boarding                         6\n",
       "Departure Delay in Minutes            466\n",
       "Arrival Delay in Minutes              472\n",
       "dtype: int64"
      ]
     },
     "execution_count": 9,
     "metadata": {},
     "output_type": "execute_result"
    }
   ],
   "source": [
    "airlineDF.nunique() ## how many unique values does each feature have? "
   ]
  },
  {
   "cell_type": "code",
   "execution_count": 10,
   "id": "e94d8233",
   "metadata": {
    "execution": {
     "iopub.execute_input": "2022-02-06T16:59:06.064303Z",
     "iopub.status.busy": "2022-02-06T16:59:06.060732Z",
     "iopub.status.idle": "2022-02-06T16:59:06.067216Z",
     "shell.execute_reply": "2022-02-06T16:59:06.067795Z",
     "shell.execute_reply.started": "2022-02-06T16:45:28.742102Z"
    },
    "papermill": {
     "duration": 0.041192,
     "end_time": "2022-02-06T16:59:06.068021",
     "exception": false,
     "start_time": "2022-02-06T16:59:06.026829",
     "status": "completed"
    },
    "tags": []
   },
   "outputs": [
    {
     "data": {
      "text/plain": [
       "Index(['satisfaction', 'Gender', 'Customer Type', 'Age', 'Type of Travel',\n",
       "       'Class', 'Flight Distance', 'Seat comfort',\n",
       "       'Departure/Arrival time convenient', 'Food and drink', 'Gate location',\n",
       "       'Inflight wifi service', 'Inflight entertainment', 'Online support',\n",
       "       'Ease of Online booking', 'On-board service', 'Leg room service',\n",
       "       'Baggage handling', 'Checkin service', 'Cleanliness', 'Online boarding',\n",
       "       'Departure Delay in Minutes', 'Arrival Delay in Minutes'],\n",
       "      dtype='object')"
      ]
     },
     "execution_count": 10,
     "metadata": {},
     "output_type": "execute_result"
    }
   ],
   "source": [
    "airlineDF.columns"
   ]
  },
  {
   "cell_type": "code",
   "execution_count": 11,
   "id": "92477085",
   "metadata": {
    "execution": {
     "iopub.execute_input": "2022-02-06T16:59:06.134178Z",
     "iopub.status.busy": "2022-02-06T16:59:06.133514Z",
     "iopub.status.idle": "2022-02-06T16:59:06.137873Z",
     "shell.execute_reply": "2022-02-06T16:59:06.138388Z",
     "shell.execute_reply.started": "2022-02-06T16:45:30.030852Z"
    },
    "papermill": {
     "duration": 0.039242,
     "end_time": "2022-02-06T16:59:06.138562",
     "exception": false,
     "start_time": "2022-02-06T16:59:06.099320",
     "status": "completed"
    },
    "tags": []
   },
   "outputs": [],
   "source": [
    "cat_features = ['Gender', 'Customer Type', 'Type of Travel', 'Class', 'Seat comfort',\n",
    "               'Departure/Arrival time convenient', 'Food and drink', 'Gate location',\n",
    "               'Inflight wifi service', 'Inflight entertainment', 'Online support',\n",
    "               'Ease of Online booking', 'On-board service', 'Leg room service',\n",
    "               'Baggage handling', 'Checkin service', 'Cleanliness', 'Online boarding']\n",
    "\n",
    "target = 'satisfaction'"
   ]
  },
  {
   "cell_type": "markdown",
   "id": "410622c7",
   "metadata": {
    "papermill": {
     "duration": 0.030708,
     "end_time": "2022-02-06T16:59:06.200206",
     "exception": false,
     "start_time": "2022-02-06T16:59:06.169498",
     "status": "completed"
    },
    "tags": []
   },
   "source": [
    "#### Check Class Balance "
   ]
  },
  {
   "cell_type": "code",
   "execution_count": 12,
   "id": "2bdb6ac6",
   "metadata": {
    "execution": {
     "iopub.execute_input": "2022-02-06T16:59:06.266442Z",
     "iopub.status.busy": "2022-02-06T16:59:06.265742Z",
     "iopub.status.idle": "2022-02-06T16:59:06.476239Z",
     "shell.execute_reply": "2022-02-06T16:59:06.476721Z",
     "shell.execute_reply.started": "2022-02-06T16:45:31.828922Z"
    },
    "papermill": {
     "duration": 0.245585,
     "end_time": "2022-02-06T16:59:06.476932",
     "exception": false,
     "start_time": "2022-02-06T16:59:06.231347",
     "status": "completed"
    },
    "tags": []
   },
   "outputs": [
    {
     "name": "stdout",
     "output_type": "stream",
     "text": [
      "Counts of each class:\n",
      "satisfied       71087\n",
      "dissatisfied    58793\n",
      "Name: satisfaction, dtype: int64\n"
     ]
    },
    {
     "data": {
      "image/png": "[encoded data removed]",
      "text/plain": [
       "<Figure size 640x480 with 1 Axes>"
      ]
     },
     "metadata": {},
     "output_type": "display_data"
    },
    {
     "name": "stdout",
     "output_type": "stream",
     "text": [
      "DataFrame shape: (129880, 23)\n"
     ]
    }
   ],
   "source": [
    "# Map class labels for better readability\n",
    "class_mapping = {1: \"satisfied\", 0: \"dissatisfied\"}\n",
    "airlineDF[target] = airlineDF[target].map(class_mapping)\n",
    "\n",
    "# Print counts of each class\n",
    "print(\"Counts of each class:\")\n",
    "class_counts = airlineDF[target].value_counts()\n",
    "print(class_counts)\n",
    "\n",
    "# Plot counts of each class\n",
    "class_counts.plot(kind='bar')\n",
    "plt.ylabel('Count')\n",
    "plt.title('Class Counts (Checking for Imbalance)')\n",
    "plt.show()  # Ensure the plot is displayed\n",
    "\n",
    "# Display the shape of the DataFrame\n",
    "print(\"DataFrame shape:\", airlineDF.shape)\n"
   ]
  },
  {
   "cell_type": "markdown",
   "id": "7dd5b54b",
   "metadata": {
    "papermill": {
     "duration": 0.032154,
     "end_time": "2022-02-06T16:59:06.542177",
     "exception": false,
     "start_time": "2022-02-06T16:59:06.510023",
     "status": "completed"
    },
    "tags": []
   },
   "source": [
    "The dataset is little bit imbalanced, with a majority of instances classified as \"satisfied\" (71,087) and a minority as \"dissatisfied\" (58,793). Imbalanced datasets can pose challenges for machine learning models and require special consideration during model training and evaluation."
   ]
  },
  {
   "cell_type": "markdown",
   "id": "28c3f771",
   "metadata": {
    "papermill": {
     "duration": 0.032053,
     "end_time": "2022-02-06T16:59:06.606709",
     "exception": false,
     "start_time": "2022-02-06T16:59:06.574656",
     "status": "completed"
    },
    "tags": []
   },
   "source": [
    "#### Missing Value Handling "
   ]
  },
  {
   "cell_type": "markdown",
   "id": "c7448256",
   "metadata": {
    "papermill": {
     "duration": 0.032183,
     "end_time": "2022-02-06T16:59:06.671357",
     "exception": false,
     "start_time": "2022-02-06T16:59:06.639174",
     "status": "completed"
    },
    "tags": []
   },
   "source": [
    "CatBoost was selected for its ability to handle datasets with missing values, streamlining the preprocessing step and allowing for direct modeling without the need for imputation or removal of missing data."
   ]
  },
  {
   "cell_type": "code",
   "execution_count": 13,
   "id": "9d5ff6ac",
   "metadata": {
    "execution": {
     "iopub.execute_input": "2022-02-06T16:59:06.742050Z",
     "iopub.status.busy": "2022-02-06T16:59:06.741049Z",
     "iopub.status.idle": "2022-02-06T16:59:06.748153Z",
     "shell.execute_reply": "2022-02-06T16:59:06.748695Z",
     "shell.execute_reply.started": "2022-02-06T16:45:34.163541Z"
    },
    "papermill": {
     "duration": 0.043491,
     "end_time": "2022-02-06T16:59:06.748891",
     "exception": false,
     "start_time": "2022-02-06T16:59:06.705400",
     "status": "completed"
    },
    "tags": []
   },
   "outputs": [
    {
     "name": "stdout",
     "output_type": "stream",
     "text": [
      "Percentage of missing: 0.303 %\n"
     ]
    }
   ],
   "source": [
    "# Calculate percentage of missing values in the 'Arrival Delay in Minutes' column\n",
    "missing_percentage = airlineDF['Arrival Delay in Minutes'].isnull().sum() / airlineDF.shape[0] * 100\n",
    "\n",
    "# Print the percentage of missing values with 3 decimal places\n",
    "print(\"Percentage of missing: {} %\".format(round(missing_percentage, 3)))"
   ]
  },
  {
   "cell_type": "code",
   "execution_count": 14,
   "id": "4677774e",
   "metadata": {
    "execution": {
     "iopub.execute_input": "2022-02-06T16:59:06.819318Z",
     "iopub.status.busy": "2022-02-06T16:59:06.818279Z",
     "iopub.status.idle": "2022-02-06T16:59:07.629137Z",
     "shell.execute_reply": "2022-02-06T16:59:07.628379Z",
     "shell.execute_reply.started": "2022-02-06T16:45:36.228237Z"
    },
    "papermill": {
     "duration": 0.846751,
     "end_time": "2022-02-06T16:59:07.629299",
     "exception": false,
     "start_time": "2022-02-06T16:59:06.782548",
     "status": "completed"
    },
    "tags": []
   },
   "outputs": [
    {
     "data": {
      "image/png": "[encoded data removed]",
      "text/plain": [
       "<Figure size 800x600 with 1 Axes>"
      ]
     },
     "metadata": {},
     "output_type": "display_data"
    }
   ],
   "source": [
    "# Visualize the distribution of 'Arrival Delay in Minutes' feature\n",
    "fig = plt.figure(figsize=(8, 6))\n",
    "\n",
    "# Plot a distribution plot (histogram) for the 'Arrival Delay in Minutes' feature\n",
    "sns.distplot(airlineDF['Arrival Delay in Minutes'])\n",
    "\n",
    "# Show the plot\n",
    "plt.show()"
   ]
  },
  {
   "cell_type": "markdown",
   "id": "b8ed8b01",
   "metadata": {
    "papermill": {
     "duration": 0.033347,
     "end_time": "2022-02-06T16:59:07.696881",
     "exception": false,
     "start_time": "2022-02-06T16:59:07.663534",
     "status": "completed"
    },
    "tags": []
   },
   "source": [
    "Given the presence of missing values and numerous outliers in the \"Arrival Delay in Minutes\" column, the decision has been made to exclude this column from the dataset. "
   ]
  },
  {
   "cell_type": "markdown",
   "id": "aa2d8b12",
   "metadata": {
    "papermill": {
     "duration": 0.033003,
     "end_time": "2022-02-06T16:59:07.763314",
     "exception": false,
     "start_time": "2022-02-06T16:59:07.730311",
     "status": "completed"
    },
    "tags": []
   },
   "source": [
    "#### Splitting dataset into train, validation and test "
   ]
  },
  {
   "cell_type": "code",
   "execution_count": 15,
   "id": "bd0e54c7",
   "metadata": {
    "execution": {
     "iopub.execute_input": "2022-02-06T16:59:07.834986Z",
     "iopub.status.busy": "2022-02-06T16:59:07.833679Z",
     "iopub.status.idle": "2022-02-06T16:59:07.876353Z",
     "shell.execute_reply": "2022-02-06T16:59:07.877781Z",
     "shell.execute_reply.started": "2022-02-06T16:45:39.55746Z"
    },
    "papermill": {
     "duration": 0.081339,
     "end_time": "2022-02-06T16:59:07.878058",
     "exception": false,
     "start_time": "2022-02-06T16:59:07.796719",
     "status": "completed"
    },
    "tags": []
   },
   "outputs": [],
   "source": [
    "X = airlineDF.drop([target, 'Arrival Delay in Minutes'], axis=1)\n",
    "y = airlineDF[target]"
   ]
  },
  {
   "cell_type": "code",
   "execution_count": 16,
   "id": "37d031ba",
   "metadata": {
    "execution": {
     "iopub.execute_input": "2022-02-06T16:59:07.951505Z",
     "iopub.status.busy": "2022-02-06T16:59:07.950487Z",
     "iopub.status.idle": "2022-02-06T16:59:08.052920Z",
     "shell.execute_reply": "2022-02-06T16:59:08.053458Z",
     "shell.execute_reply.started": "2022-02-06T16:45:41.383386Z"
    },
    "papermill": {
     "duration": 0.140832,
     "end_time": "2022-02-06T16:59:08.053666",
     "exception": false,
     "start_time": "2022-02-06T16:59:07.912834",
     "status": "completed"
    },
    "tags": []
   },
   "outputs": [],
   "source": [
    "SEED = 42 \n",
    "TEST_SIZE = 0.2\n",
    "\n",
    "X_train, X_test, y_train, y_test = train_test_split(X, y, test_size=TEST_SIZE, stratify=y, random_state=SEED) "
   ]
  },
  {
   "cell_type": "code",
   "execution_count": 17,
   "id": "57c371c1",
   "metadata": {},
   "outputs": [],
   "source": [
    "SEED = 42 \n",
    "VAL_SIZE = 0.2 # % of train data\n",
    "\n",
    "X_train, X_val, y_train, y_val =  train_test_split(X_train, y_train, test_size=VAL_SIZE, stratify=y_train, random_state=SEED)  "
   ]
  },
  {
   "cell_type": "markdown",
   "id": "e2fd0292",
   "metadata": {
    "papermill": {
     "duration": 0.035077,
     "end_time": "2022-02-06T16:59:08.349997",
     "exception": false,
     "start_time": "2022-02-06T16:59:08.314920",
     "status": "completed"
    },
    "tags": []
   },
   "source": [
    "#### Baseline model: catboost"
   ]
  },
  {
   "cell_type": "code",
   "execution_count": 18,
   "id": "02f02ad1",
   "metadata": {
    "execution": {
     "iopub.execute_input": "2022-02-06T16:59:08.425204Z",
     "iopub.status.busy": "2022-02-06T16:59:08.424171Z",
     "iopub.status.idle": "2022-02-06T16:59:12.369355Z",
     "shell.execute_reply": "2022-02-06T16:59:12.368737Z",
     "shell.execute_reply.started": "2022-02-06T16:45:48.484809Z"
    },
    "papermill": {
     "duration": 3.984322,
     "end_time": "2022-02-06T16:59:12.369534",
     "exception": false,
     "start_time": "2022-02-06T16:59:08.385212",
     "status": "completed"
    },
    "tags": []
   },
   "outputs": [
    {
     "data": {
      "application/vnd.jupyter.widget-view+json": {
       "model_id": "f88b451d9b1b4aae8576755efa59a4a3",
       "version_major": 2,
       "version_minor": 0
      },
      "text/plain": [
       "MetricVisualizer(layout=Layout(align_self='stretch', height='500px'))"
      ]
     },
     "metadata": {},
     "output_type": "display_data"
    },
    {
     "data": {
      "text/plain": [
       "<catboost.core.CatBoostClassifier at 0x1f6f849bdf0>"
      ]
     },
     "execution_count": 18,
     "metadata": {},
     "output_type": "execute_result"
    }
   ],
   "source": [
    "from catboost import CatBoostClassifier as CBC\n",
    "from sklearn.metrics import accuracy_score, precision_score, recall_score, f1_score, roc_auc_score, confusion_matrix\n",
    "\n",
    "# Define the CatBoostClassifier model with specified parameters\n",
    "model = CBC(\n",
    "    iterations=50,  # Number of boosting iterations\n",
    "    random_seed=42,  # Random seed for reproducibility\n",
    "    learning_rate=0.1,  # Learning rate for gradient boosting\n",
    "    custom_loss=['Accuracy'],  # Custom loss function for training\n",
    "    eval_metric='Accuracy'  # Evaluation metric to monitor during training\n",
    ")\n",
    "\n",
    "# Fit the model to the training data and evaluate on the validation data\n",
    "model.fit(\n",
    "    X_train, y_train,  # Training data\n",
    "    cat_features=cat_features,  # Categorical features\n",
    "    eval_set=(X_val, y_val),  # Validation data\n",
    "    logging_level='Silent',  # Set logging level to Silent\n",
    "    plot=True  # Plot training progress (optional)\n",
    ")"
   ]
  },
  {
   "cell_type": "markdown",
   "id": "50431f69",
   "metadata": {
    "papermill": {
     "duration": 0.036548,
     "end_time": "2022-02-06T16:59:12.444045",
     "exception": false,
     "start_time": "2022-02-06T16:59:12.407497",
     "status": "completed"
    },
    "tags": []
   },
   "source": [
    "#### Evaluation on test dataset "
   ]
  },
  {
   "cell_type": "code",
   "execution_count": 31,
   "id": "ec3d06f2",
   "metadata": {
    "execution": {
     "iopub.execute_input": "2022-02-06T16:59:12.578331Z",
     "iopub.status.busy": "2022-02-06T16:59:12.571167Z",
     "iopub.status.idle": "2022-02-06T16:59:12.670670Z",
     "shell.execute_reply": "2022-02-06T16:59:12.671271Z",
     "shell.execute_reply.started": "2022-02-06T16:46:05.333428Z"
    },
    "papermill": {
     "duration": 0.19222,
     "end_time": "2022-02-06T16:59:12.671522",
     "exception": false,
     "start_time": "2022-02-06T16:59:12.479302",
     "status": "completed"
    },
    "tags": []
   },
   "outputs": [
    {
     "name": "stdout",
     "output_type": "stream",
     "text": [
      "Test Accuracy: 0.931706190329535\n",
      "Precision: 0.9307623069999308\n",
      "Recall: 0.9455581346275586\n",
      "F1 Score: 0.9381018841591068\n",
      "AUC-ROC Score: 0.985606693016951\n",
      "Confusion Matrix:\n",
      "[[10759  1000]\n",
      " [  774 13443]]\n"
     ]
    }
   ],
   "source": [
    "# Predict on the test data\n",
    "y_pred_test = model.predict(X_test)\n",
    "\n",
    "from sklearn.metrics import precision_score, recall_score, f1_score\n",
    "\n",
    "# Calculate evaluation metrics\n",
    "accuracy_test = accuracy_score(y_test, y_pred_test)\n",
    "precision_test = precision_score(y_test, y_pred_test, pos_label='satisfied')\n",
    "recall_test = recall_score(y_test, y_pred_test, pos_label='satisfied')\n",
    "f1_test = f1_score(y_test, y_pred_test, pos_label='satisfied')\n",
    "roc_auc_test = roc_auc_score(y_test, model.predict_proba(X_test)[:, 1])\n",
    "conf_matrix_test = confusion_matrix(y_test, y_pred_test)\n",
    "\n",
    "# Print evaluation metrics\n",
    "print(\"Test Accuracy:\", accuracy_test)\n",
    "print(\"Precision:\", precision_test)\n",
    "print(\"Recall:\", recall_test)\n",
    "print(\"F1 Score:\", f1_test)\n",
    "print(\"AUC-ROC Score:\", roc_auc_test)\n",
    "print(\"Confusion Matrix:\")\n",
    "print(conf_matrix_test)"
   ]
  },
  {
   "cell_type": "code",
   "execution_count": 22,
   "id": "6ba248ff",
   "metadata": {},
   "outputs": [
    {
     "data": {
      "image/png": "[encoded data removed]",
      "text/plain": [
       "<Figure size 800x600 with 2 Axes>"
      ]
     },
     "metadata": {},
     "output_type": "display_data"
    }
   ],
   "source": [
    "import seaborn as sns\n",
    "import matplotlib.pyplot as plt\n",
    "from sklearn.metrics import confusion_matrix\n",
    "\n",
    "# Plot confusion matrix\n",
    "plt.figure(figsize=(8, 6))\n",
    "sns.heatmap(conf_matrix_test, annot=True, cmap='Blues', fmt='g', \n",
    "            xticklabels=['dissatisfied', 'satisfied'], \n",
    "            yticklabels=['dissatisfied', 'satisfied'])\n",
    "plt.xlabel('Predicted')\n",
    "plt.ylabel('Actual')\n",
    "plt.title('Confusion Matrix - Test Data')\n",
    "plt.show()"
   ]
  },
  {
   "cell_type": "markdown",
   "id": "504ee4a7",
   "metadata": {
    "papermill": {
     "duration": 0.037427,
     "end_time": "2022-02-06T16:59:12.745404",
     "exception": false,
     "start_time": "2022-02-06T16:59:12.707977",
     "status": "completed"
    },
    "tags": []
   },
   "source": [
    "With basic hyperparameters we can get high result of 93.17%"
   ]
  },
  {
   "cell_type": "markdown",
   "id": "0414fa13",
   "metadata": {
    "papermill": {
     "duration": 0.035007,
     "end_time": "2022-02-06T16:59:12.816382",
     "exception": false,
     "start_time": "2022-02-06T16:59:12.781375",
     "status": "completed"
    },
    "tags": []
   },
   "source": [
    "#### Explainability with Shap \n",
    "\n",
    "> Using the SHAP (SHapley Additive exPlanations) library, we can gain insights into the impact of different features on the accuracy of our model. SHAP values provide a way to interpret the output of machine learning models by quantifying the contribution of each feature to the predicted outcome."
   ]
  },
  {
   "cell_type": "code",
   "execution_count": 23,
   "id": "20c0495d",
   "metadata": {
    "execution": {
     "iopub.execute_input": "2022-02-06T16:59:12.894540Z",
     "iopub.status.busy": "2022-02-06T16:59:12.893338Z",
     "iopub.status.idle": "2022-02-06T16:59:14.726852Z",
     "shell.execute_reply": "2022-02-06T16:59:14.726229Z",
     "shell.execute_reply.started": "2022-02-06T16:46:08.18055Z"
    },
    "papermill": {
     "duration": 1.875053,
     "end_time": "2022-02-06T16:59:14.727046",
     "exception": false,
     "start_time": "2022-02-06T16:59:12.851993",
     "status": "completed"
    },
    "tags": []
   },
   "outputs": [],
   "source": [
    "import shap"
   ]
  },
  {
   "cell_type": "code",
   "execution_count": 24,
   "id": "f23f729b",
   "metadata": {
    "execution": {
     "iopub.execute_input": "2022-02-06T16:59:14.802249Z",
     "iopub.status.busy": "2022-02-06T16:59:14.801520Z",
     "iopub.status.idle": "2022-02-06T16:59:16.207121Z",
     "shell.execute_reply": "2022-02-06T16:59:16.206467Z",
     "shell.execute_reply.started": "2022-02-06T16:46:10.724885Z"
    },
    "papermill": {
     "duration": 1.445402,
     "end_time": "2022-02-06T16:59:16.207283",
     "exception": false,
     "start_time": "2022-02-06T16:59:14.761881",
     "status": "completed"
    },
    "tags": []
   },
   "outputs": [],
   "source": [
    "# Create a SHAP TreeExplainer object for the CatBoost model\n",
    "explainer = shap.TreeExplainer(model)\n",
    "\n",
    "# Calculate SHAP values for the test data\n",
    "shap_values = explainer.shap_values(X_test)\n",
    "\n",
    "# Get the base value (expected value) from the explainer\n",
    "base_value = explainer.expected_value"
   ]
  },
  {
   "cell_type": "code",
   "execution_count": 25,
   "id": "b388d6c9",
   "metadata": {
    "execution": {
     "iopub.execute_input": "2022-02-06T16:59:16.287449Z",
     "iopub.status.busy": "2022-02-06T16:59:16.284134Z",
     "iopub.status.idle": "2022-02-06T16:59:16.630156Z",
     "shell.execute_reply": "2022-02-06T16:59:16.629464Z",
     "shell.execute_reply.started": "2022-02-06T16:46:12.119117Z"
    },
    "papermill": {
     "duration": 0.386737,
     "end_time": "2022-02-06T16:59:16.630331",
     "exception": false,
     "start_time": "2022-02-06T16:59:16.243594",
     "status": "completed"
    },
    "tags": []
   },
   "outputs": [
    {
     "data": {
      "image/png": "[encoded data removed]",
      "text/plain": [
       "<Figure size 800x950 with 1 Axes>"
      ]
     },
     "metadata": {},
     "output_type": "display_data"
    }
   ],
   "source": [
    "shap.summary_plot(shap_values, X_test, feature_names=X_test.columns, plot_type=\"bar\")"
   ]
  },
  {
   "cell_type": "markdown",
   "id": "cbdb721b",
   "metadata": {},
   "source": [
    "Here we can see that the top 4 features that has the biggest average impact on the result are Inflight entertainment, Seat comfort, Type of Travel and Customer Type."
   ]
  },
  {
   "cell_type": "markdown",
   "id": "ee0fe5be",
   "metadata": {},
   "source": [
    "**Inflight Entertainment**"
   ]
  },
  {
   "cell_type": "code",
   "execution_count": 26,
   "id": "9021aaaa",
   "metadata": {
    "execution": {
     "iopub.execute_input": "2022-02-06T16:59:16.713155Z",
     "iopub.status.busy": "2022-02-06T16:59:16.712387Z",
     "iopub.status.idle": "2022-02-06T16:59:16.988969Z",
     "shell.execute_reply": "2022-02-06T16:59:16.989469Z",
     "shell.execute_reply.started": "2022-02-06T16:46:12.469741Z"
    },
    "papermill": {
     "duration": 0.321338,
     "end_time": "2022-02-06T16:59:16.989656",
     "exception": false,
     "start_time": "2022-02-06T16:59:16.668318",
     "status": "completed"
    },
    "tags": []
   },
   "outputs": [
    {
     "data": {
      "text/plain": [
       "<Axes: xlabel='Inflight entertainment', ylabel='count'>"
      ]
     },
     "execution_count": 26,
     "metadata": {},
     "output_type": "execute_result"
    },
    {
     "data": {
      "image/png": "[encoded data removed]",
      "text/plain": [
       "<Figure size 800x500 with 1 Axes>"
      ]
     },
     "metadata": {},
     "output_type": "display_data"
    }
   ],
   "source": [
    "plt.figure(figsize=(8, 5))\n",
    "\n",
    "x = 'Inflight entertainment'\n",
    "y = target\n",
    "\n",
    "sns.countplot(x=x, hue=y, data=airlineDF) "
   ]
  },
  {
   "cell_type": "markdown",
   "id": "b2d0907f",
   "metadata": {
    "papermill": {
     "duration": 0.036833,
     "end_time": "2022-02-06T16:59:17.064068",
     "exception": false,
     "start_time": "2022-02-06T16:59:17.027235",
     "status": "completed"
    },
    "tags": []
   },
   "source": [
    "> Passengers who rate the inflight entertainment as 4 or 5 tend to be mostly satisfied with their overall experience. This suggests that the quality or availability of inflight entertainment significantly contributes to passengers' satisfaction levels. Providing a diverse range of entertainment options or ensuring high-quality inflight entertainment systems may enhance overall satisfaction among passengers."
   ]
  },
  {
   "cell_type": "markdown",
   "id": "7529c13d",
   "metadata": {},
   "source": [
    "**Seat Comfort**"
   ]
  },
  {
   "cell_type": "code",
   "execution_count": 27,
   "id": "0af1d785",
   "metadata": {
    "execution": {
     "iopub.execute_input": "2022-02-06T16:59:17.147648Z",
     "iopub.status.busy": "2022-02-06T16:59:17.143850Z",
     "iopub.status.idle": "2022-02-06T16:59:17.423396Z",
     "shell.execute_reply": "2022-02-06T16:59:17.422717Z",
     "shell.execute_reply.started": "2022-02-06T16:46:14.175096Z"
    },
    "papermill": {
     "duration": 0.321132,
     "end_time": "2022-02-06T16:59:17.423567",
     "exception": false,
     "start_time": "2022-02-06T16:59:17.102435",
     "status": "completed"
    },
    "tags": []
   },
   "outputs": [
    {
     "data": {
      "text/plain": [
       "<Axes: xlabel='Seat comfort', ylabel='count'>"
      ]
     },
     "execution_count": 27,
     "metadata": {},
     "output_type": "execute_result"
    },
    {
     "data": {
      "image/png": "[encoded data removed]",
      "text/plain": [
       "<Figure size 800x500 with 1 Axes>"
      ]
     },
     "metadata": {},
     "output_type": "display_data"
    }
   ],
   "source": [
    "plt.figure(figsize=(8, 5))\n",
    "\n",
    "x = 'Seat comfort'\n",
    "y = target\n",
    "\n",
    "sns.countplot(x=x, hue = y, data = airlineDF) "
   ]
  },
  {
   "cell_type": "markdown",
   "id": "9bd8fa46",
   "metadata": {},
   "source": [
    "> Passengers who rate the seat comfort as 4 or 5 are predominantly satisfied with their overall experience. This implies that the level of comfort provided by the seats significantly influences passengers' satisfaction levels. Ensuring comfortable seating arrangements and amenities may contribute to higher levels of satisfaction among passengers."
   ]
  },
  {
   "cell_type": "markdown",
   "id": "772b68ae",
   "metadata": {},
   "source": [
    "**Type of Travel**"
   ]
  },
  {
   "cell_type": "code",
   "execution_count": 28,
   "id": "d3f30c38",
   "metadata": {
    "execution": {
     "iopub.execute_input": "2022-02-06T16:59:17.510654Z",
     "iopub.status.busy": "2022-02-06T16:59:17.509924Z",
     "iopub.status.idle": "2022-02-06T16:59:17.728564Z",
     "shell.execute_reply": "2022-02-06T16:59:17.727954Z",
     "shell.execute_reply.started": "2022-02-06T16:46:14.623707Z"
    },
    "papermill": {
     "duration": 0.266162,
     "end_time": "2022-02-06T16:59:17.728743",
     "exception": false,
     "start_time": "2022-02-06T16:59:17.462581",
     "status": "completed"
    },
    "tags": []
   },
   "outputs": [
    {
     "data": {
      "image/png": "[encoded data removed]",
      "text/plain": [
       "<Figure size 600x300 with 1 Axes>"
      ]
     },
     "metadata": {},
     "output_type": "display_data"
    }
   ],
   "source": [
    "plt.figure(figsize=(6, 3))\n",
    "\n",
    "# Define the variables for plotting\n",
    "x = 'Type of Travel'\n",
    "y = target\n",
    "\n",
    "# Create a countplot with hue\n",
    "sns.countplot(x=x, hue=y, data=airlineDF)  \n",
    "\n",
    "# Set x-axis labels for the ticks\n",
    "plt.xticks(ticks=[0, 1], labels=[\"Personal Travel\", \"Business travel\"])\n",
    "\n",
    "# Show the plot\n",
    "plt.show()\n"
   ]
  },
  {
   "cell_type": "markdown",
   "id": "d35bf9be",
   "metadata": {},
   "source": [
    "> Passengers who are traveling for business purposes tend to be more satisfied compared to those traveling for personal reasons. This indicates that the type of travel, whether it is for business or personal purposes, plays a significant role in determining passengers' satisfaction levels. Understanding the specific needs and preferences of passengers based on their travel purposes can help airlines tailor their services to enhance overall satisfaction levels."
   ]
  },
  {
   "cell_type": "markdown",
   "id": "8d5b62c5",
   "metadata": {},
   "source": [
    "**Customer Type**"
   ]
  },
  {
   "cell_type": "code",
   "execution_count": 29,
   "id": "186d8ec6",
   "metadata": {},
   "outputs": [
    {
     "data": {
      "image/png": "[encoded data removed]",
      "text/plain": [
       "<Figure size 600x300 with 1 Axes>"
      ]
     },
     "metadata": {},
     "output_type": "display_data"
    }
   ],
   "source": [
    "plt.figure(figsize=(6, 3))\n",
    "\n",
    "# Define the variables for plotting\n",
    "x = 'Customer Type'\n",
    "y = target\n",
    "\n",
    "# Create a countplot with hue\n",
    "sns.countplot(x=x, hue=y, data=airlineDF)  \n",
    "\n",
    "# Set x-axis labels for the ticks\n",
    "plt.xticks(ticks=[1, 0], labels=[\"Loyal Customer\", \"Disloyal Customer\"])\n",
    "\n",
    "# Show the plot\n",
    "plt.show()"
   ]
  },
  {
   "cell_type": "markdown",
   "id": "4008ae79",
   "metadata": {},
   "source": [
    "> The data shows that loyal customers exhibit higher levels of satisfaction compared to disloyal customers. This suggests that customers who have a history of loyalty to the airline are generally more content with the services provided. Building and maintaining customer loyalty programs or offering exclusive benefits to frequent flyers could be effective strategies to enhance overall customer satisfaction and encourage continued patronage."
   ]
  }
 ],
 "metadata": {
  "kernelspec": {
   "display_name": "Python 3 (ipykernel)",
   "language": "python",
   "name": "python3"
  },
  "language_info": {
   "codemirror_mode": {
    "name": "ipython",
    "version": 3
   },
   "file_extension": ".py",
   "mimetype": "text/x-python",
   "name": "python",
   "nbconvert_exporter": "python",
   "pygments_lexer": "ipython3",
   "version": "3.10.9"
  },
  "papermill": {
   "default_parameters": {},
   "duration": 27.910532,
   "end_time": "2022-02-06T16:59:19.359199",
   "environment_variables": {},
   "exception": null,
   "input_path": "__notebook__.ipynb",
   "output_path": "__notebook__.ipynb",
   "parameters": {},
   "start_time": "2022-02-06T16:58:51.448667",
   "version": "2.3.3"
  },
  "widgets": {
   "application/vnd.jupyter.widget-state+json": {
    "state": {
     "cd00872f3bf24dbaaf48d49edcd14c91": {
      "model_module": "catboost-widget",
      "model_module_version": "^1.0.0",
      "model_name": "CatboostWidgetModel",
      "state": {
       "_dom_classes": [],
       "_model_module": "catboost-widget",
       "_model_module_version": "^1.0.0",
       "_model_name": "CatboostWidgetModel",
       "_view_count": null,
       "_view_module": "catboost-widget",
       "_view_module_version": "^1.0.0",
       "_view_name": "CatboostWidgetView",
       "data": {
        "catboost_info": {
         "content": {
          "data": {
           "iterations": [
            {
             "iteration": 0,
             "learn": [
              0.8453376322,
              0.5871041654
             ],
             "passed_time": 0.1371821838,
             "remaining_time": 6.721927008,
             "test": [
              0.8471199654,
              0.5868334416
             ]
            },
            {
             "iteration": 1,
             "learn": [
              0.8484895877,
              0.5176920388
             ],
             "passed_time": 0.2068738338,
             "remaining_time": 4.964972012,
             "test": [
              0.8486598335,
              0.5171574546
             ]
            },
            {
             "iteration": 2,
             "learn": [
              0.8492715614,
              0.4717477836
             ],
             "passed_time": 0.2637588331,
             "remaining_time": 4.132221719,
             "test": [
              0.8497184929,
              0.4708557948
             ]
            },
            {
             "iteration": 3,
             "learn": [
              0.8485858306,
              0.4388933018
             ],
             "passed_time": 0.3337498991,
             "remaining_time": 3.83812384,
             "test": [
              0.8487560753,
              0.4377352267
             ]
            },
            {
             "iteration": 4,
             "learn": [
              0.8459150897,
              0.4193582349
             ],
             "passed_time": 0.391599052,
             "remaining_time": 3.524391468,
             "test": [
              0.8471680862,
              0.4179030132
             ]
            },
            {
             "iteration": 5,
             "learn": [
              0.86868857,
              0.3710673686
             ],
             "passed_time": 0.4512635877,
             "remaining_time": 3.30926631,
             "test": [
              0.8697367788,
              0.369851681
             ]
            },
            {
             "iteration": 6,
             "learn": [
              0.8717322522,
              0.3441466125
             ],
             "passed_time": 0.5103472244,
             "remaining_time": 3.134990093,
             "test": [
              0.8733458448,
              0.3431953933
             ]
            },
            {
             "iteration": 7,
             "learn": [
              0.8742586288,
              0.3141951607
             ],
             "passed_time": 0.5694256954,
             "remaining_time": 2.989484901,
             "test": [
              0.8750300755,
              0.3134639746
             ]
            },
            {
             "iteration": 8,
             "learn": [
              0.8835460703,
              0.2924674468
             ],
             "passed_time": 0.6285475378,
             "remaining_time": 2.863383228,
             "test": [
              0.884461768,
              0.2915553672
             ]
            },
            {
             "iteration": 9,
             "learn": [
              0.8902108923,
              0.2762328087
             ],
             "passed_time": 0.6868840304,
             "remaining_time": 2.747536121,
             "test": [
              0.8915836581,
              0.2751535058
             ]
            },
            {
             "iteration": 10,
             "learn": [
              0.8952877062,
              0.264314382
             ],
             "passed_time": 0.7462231381,
             "remaining_time": 2.645700217,
             "test": [
              0.8961551417,
              0.2632102072
             ]
            },
            {
             "iteration": 11,
             "learn": [
              0.897922356,
              0.2558840042
             ],
             "passed_time": 0.8040403505,
             "remaining_time": 2.546127777,
             "test": [
              0.8985130648,
              0.254876849
             ]
            },
            {
             "iteration": 12,
             "learn": [
              0.9026021679,
              0.2478323562
             ],
             "passed_time": 0.8583597913,
             "remaining_time": 2.443024021,
             "test": [
              0.9022664934,
              0.2467265484
             ]
            },
            {
             "iteration": 13,
             "learn": [
              0.9040698724,
              0.2432824015
             ],
             "passed_time": 0.916637491,
             "remaining_time": 2.357067834,
             "test": [
              0.9031326693,
              0.2422183422
             ]
            },
            {
             "iteration": 14,
             "learn": [
              0.9050443319,
              0.2392329684
             ],
             "passed_time": 0.969459098,
             "remaining_time": 2.262071229,
             "test": [
              0.9045762957,
              0.2380556853
             ]
            },
            {
             "iteration": 15,
             "learn": [
              0.9055736679,
              0.2344363834
             ],
             "passed_time": 1.022531421,
             "remaining_time": 2.172879269,
             "test": [
              0.905249988,
              0.2329386626
             ]
            },
            {
             "iteration": 16,
             "learn": [
              0.9058022449,
              0.2308711203
             ],
             "passed_time": 1.07519787,
             "remaining_time": 2.087148807,
             "test": [
              0.9057311968,
              0.2293671409
             ]
            },
            {
             "iteration": 17,
             "learn": [
              0.9101452065,
              0.2230601772
             ],
             "passed_time": 1.132085728,
             "remaining_time": 2.012596849,
             "test": [
              0.9095327463,
              0.2210037144
             ]
            },
            {
             "iteration": 18,
             "learn": [
              0.9104339353,
              0.2197630928
             ],
             "passed_time": 1.187636652,
             "remaining_time": 1.937722959,
             "test": [
              0.9095327463,
              0.2176616517
             ]
            },
            {
             "iteration": 19,
             "learn": [
              0.9114685466,
              0.2170119153
             ],
             "passed_time": 1.239947786,
             "remaining_time": 1.859921678,
             "test": [
              0.9109282518,
              0.2149256796
             ]
            },
            {
             "iteration": 20,
             "learn": [
              0.9116490021,
              0.2147032936
             ],
             "passed_time": 1.292452258,
             "remaining_time": 1.784815022,
             "test": [
              0.912035032,
              0.2124466572
             ]
            },
            {
             "iteration": 21,
             "learn": [
              0.9131888888,
              0.2111458706
             ],
             "passed_time": 1.344258605,
             "remaining_time": 1.710874589,
             "test": [
              0.9133824166,
              0.2088544167
             ]
            },
            {
             "iteration": 22,
             "learn": [
              0.913790407,
              0.2086273373
             ],
             "passed_time": 1.397564054,
             "remaining_time": 1.640618672,
             "test": [
              0.9133824166,
              0.2062485498
             ]
            },
            {
             "iteration": 23,
             "learn": [
              0.9148611094,
              0.2061382028
             ],
             "passed_time": 1.449356151,
             "remaining_time": 1.57013583,
             "test": [
              0.9144891969,
              0.2037464463
             ]
            },
            {
             "iteration": 24,
             "learn": [
              0.9157513564,
              0.2041473312
             ],
             "passed_time": 1.502198882,
             "remaining_time": 1.502198882,
             "test": [
              0.9153072518,
              0.2017455136
             ]
            },
            {
             "iteration": 25,
             "learn": [
              0.9162446014,
              0.2019190223
             ],
             "passed_time": 1.556574257,
             "remaining_time": 1.436837775,
             "test": [
              0.9161253068,
              0.1995409618
             ]
            },
            {
             "iteration": 26,
             "learn": [
              0.9166897249,
              0.1990859117
             ],
             "passed_time": 1.608737345,
             "remaining_time": 1.370405887,
             "test": [
              0.9160771859,
              0.1966884647
             ]
            },
            {
             "iteration": 27,
             "learn": [
              0.9173273342,
              0.1979981277
             ],
             "passed_time": 1.661511456,
             "remaining_time": 1.305473286,
             "test": [
              0.9166546364,
              0.1955587194
             ]
            },
            {
             "iteration": 28,
             "learn": [
              0.9177243362,
              0.19615189
             ],
             "passed_time": 1.712989994,
             "remaining_time": 1.24044103,
             "test": [
              0.9171839661,
              0.1938784048
             ]
            },
            {
             "iteration": 29,
             "learn": [
              0.9185544314,
              0.1947706928
             ],
             "passed_time": 1.766252211,
             "remaining_time": 1.177501474,
             "test": [
              0.9179057793,
              0.1924556225
             ]
            },
            {
             "iteration": 30,
             "learn": [
              0.9197334071,
              0.1903531692
             ],
             "passed_time": 1.821069086,
             "remaining_time": 1.116139117,
             "test": [
              0.9204561859,
              0.1882207307
             ]
            },
            {
             "iteration": 31,
             "learn": [
              0.920984565,
              0.1871208415
             ],
             "passed_time": 1.898878403,
             "remaining_time": 1.068119102,
             "test": [
              0.9210817574,
              0.1850783169
             ]
            },
            {
             "iteration": 32,
             "learn": [
              0.9220312068,
              0.1846769427
             ],
             "passed_time": 1.999379834,
             "remaining_time": 1.029983551,
             "test": [
              0.9218998123,
              0.1826038593
             ]
            },
            {
             "iteration": 33,
             "learn": [
              0.9224402392,
              0.182252935
             ],
             "passed_time": 2.082391802,
             "remaining_time": 0.9799490831,
             "test": [
              0.9230065926,
              0.1802521456
             ]
            },
            {
             "iteration": 34,
             "learn": [
              0.9230417574,
              0.1806930061
             ],
             "passed_time": 2.150225718,
             "remaining_time": 0.9215253079,
             "test": [
              0.9231509552,
              0.1786962887
             ]
            },
            {
             "iteration": 35,
             "learn": [
              0.9237395185,
              0.1794845563
             ],
             "passed_time": 2.216278494,
             "remaining_time": 0.8618860808,
             "test": [
              0.9231509552,
              0.1774985531
             ]
            },
            {
             "iteration": 36,
             "learn": [
              0.9243891582,
              0.1784180514
             ],
             "passed_time": 2.287133794,
             "remaining_time": 0.8035875494,
             "test": [
              0.9242577354,
              0.176340695
             ]
            },
            {
             "iteration": 37,
             "learn": [
              0.9248583425,
              0.1776045554
             ],
             "passed_time": 2.350239199,
             "remaining_time": 0.7421807995,
             "test": [
              0.9248833069,
              0.1755523005
             ]
            },
            {
             "iteration": 38,
             "learn": [
              0.9253515874,
              0.1757515619
             ],
             "passed_time": 2.424846202,
             "remaining_time": 0.6839309801,
             "test": [
              0.9250276695,
              0.1736967047
             ]
            },
            {
             "iteration": 39,
             "learn": [
              0.9262177737,
              0.1733356807
             ],
             "passed_time": 2.496368697,
             "remaining_time": 0.6240921742,
             "test": [
              0.9262306915,
              0.1712004422
             ]
            },
            {
             "iteration": 40,
             "learn": [
              0.9269516259,
              0.1721227843
             ],
             "passed_time": 2.567454604,
             "remaining_time": 0.563587596,
             "test": [
              0.9267119003,
              0.1700888933
             ]
            },
            {
             "iteration": 41,
             "learn": [
              0.9280945105,
              0.1703838724
             ],
             "passed_time": 2.637757565,
             "remaining_time": 0.5024300125,
             "test": [
              0.9281074058,
              0.1684626651
             ]
            },
            {
             "iteration": 42,
             "learn": [
              0.9288163324,
              0.1689726062
             ],
             "passed_time": 2.707406485,
             "remaining_time": 0.4407405905,
             "test": [
              0.928829219,
              0.1671779955
             ]
            },
            {
             "iteration": 43,
             "learn": [
              0.9294780025,
              0.1677037488
             ],
             "passed_time": 2.779037991,
             "remaining_time": 0.378959726,
             "test": [
              0.9297435157,
              0.1659002811
             ]
            },
            {
             "iteration": 44,
             "learn": [
              0.9309096159,
              0.1641049244
             ],
             "passed_time": 2.850543659,
             "remaining_time": 0.3167270733,
             "test": [
              0.9307540542,
              0.1622439304
             ]
            },
            {
             "iteration": 45,
             "learn": [
              0.9312705268,
              0.1633528103
             ],
             "passed_time": 2.945488327,
             "remaining_time": 0.2561294198,
             "test": [
              0.9308984168,
              0.1615662007
             ]
            },
            {
             "iteration": 46,
             "learn": [
              0.9321728042,
              0.1605046171
             ],
             "passed_time": 3.020676553,
             "remaining_time": 0.1928091417,
             "test": [
              0.9321976806,
              0.1586969834
             ]
            },
            {
             "iteration": 47,
             "learn": [
              0.9325457455,
              0.1599218917
             ],
             "passed_time": 3.094484553,
             "remaining_time": 0.1289368564,
             "test": [
              0.9321976806,
              0.1581427162
             ]
            },
            {
             "iteration": 48,
             "learn": [
              0.9333036584,
              0.158103444
             ],
             "passed_time": 3.16049013,
             "remaining_time": 0.06449979858,
             "test": [
              0.9330638564,
              0.1562670998
             ]
            },
            {
             "iteration": 49,
             "learn": [
              0.9337367516,
              0.15751871
             ],
             "passed_time": 3.220276818,
             "remaining_time": 0,
             "test": [
              0.932823252,
              0.1557662815
             ]
            }
           ],
           "meta": {
            "iteration_count": 50,
            "launch_mode": "Train",
            "learn_metrics": [
             {
              "best_value": "Max",
              "name": "Accuracy"
             },
             {
              "best_value": "Min",
              "name": "Logloss"
             }
            ],
            "learn_sets": [
             "learn"
            ],
            "name": "experiment",
            "parameters": "",
            "test_metrics": [
             {
              "best_value": "Max",
              "name": "Accuracy"
             },
             {
              "best_value": "Min",
              "name": "Logloss"
             }
            ],
            "test_sets": [
             "test"
            ]
           }
          },
          "passed_iterations": 49,
          "total_iterations": 50
         },
         "name": "catboost_info",
         "path": "catboost_info"
        }
       },
       "layout": "IPY_MODEL_f3fb4effd4a04849a4385fcbc55cc1ce"
      }
     },
     "f3fb4effd4a04849a4385fcbc55cc1ce": {
      "model_module": "@jupyter-widgets/base",
      "model_module_version": "1.2.0",
      "model_name": "LayoutModel",
      "state": {
       "_model_module": "@jupyter-widgets/base",
       "_model_module_version": "1.2.0",
       "_model_name": "LayoutModel",
       "_view_count": null,
       "_view_module": "@jupyter-widgets/base",
       "_view_module_version": "1.2.0",
       "_view_name": "LayoutView",
       "align_content": null,
       "align_items": null,
       "align_self": "stretch",
       "border": null,
       "bottom": null,
       "display": null,
       "flex": null,
       "flex_flow": null,
       "grid_area": null,
       "grid_auto_columns": null,
       "grid_auto_flow": null,
       "grid_auto_rows": null,
       "grid_column": null,
       "grid_gap": null,
       "grid_row": null,
       "grid_template_areas": null,
       "grid_template_columns": null,
       "grid_template_rows": null,
       "height": "500px",
       "justify_content": null,
       "justify_items": null,
       "left": null,
       "margin": null,
       "max_height": null,
       "max_width": null,
       "min_height": null,
       "min_width": null,
       "object_fit": null,
       "object_position": null,
       "order": null,
       "overflow": null,
       "overflow_x": null,
       "overflow_y": null,
       "padding": null,
       "right": null,
       "top": null,
       "visibility": null,
       "width": null
      }
     }
    },
    "version_major": 2,
    "version_minor": 0
   }
  }
 },
 "nbformat": 4,
 "nbformat_minor": 5
}
